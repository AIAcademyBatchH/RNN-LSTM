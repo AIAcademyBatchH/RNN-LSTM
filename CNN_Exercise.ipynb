{
 "cells": [
  {
   "cell_type": "markdown",
   "id": "f4c7041b",
   "metadata": {},
   "source": [
    "#### Content\n",
    "The dataset is organized into 3 folders (train, test, val) and contains subfolders for each image category (Pneumonia/Normal). There are 5,863 X-Ray images (JPEG) and 2 categories (Pneumonia/Normal).\n",
    "\n",
    "Chest X-ray images (anterior-posterior) were selected from retrospective cohorts of pediatric patients of one to five years old from Guangzhou Women and Children’s Medical Center, Guangzhou. All chest X-ray imaging was performed as part of patients’ routine clinical care.\n",
    "\n",
    "For the analysis of chest x-ray images, all chest radiographs were initially screened for quality control by removing all low quality or unreadable scans. The diagnoses for the images were then graded by two expert physicians before being cleared for training the AI system. In order to account for any grading errors, the evaluation set was also checked by a third expert."
   ]
  },
  {
   "cell_type": "code",
   "execution_count": 1,
   "id": "28a06b20",
   "metadata": {},
   "outputs": [],
   "source": [
    "# Questions/Instructions:\n",
    "\n",
    "# 1. Load the chest x-ray images (all three of them - train, test, val - containing both normal and pneumonia infected lungs).\n",
    "\n",
    "# 2. Create batches from train, test, and valid directories using ImageGenerator class of Keras. Apply the following while doing so:\n",
    "#    preprocessing_function = tf.keras.applications.vgg16.preprocess_input\n",
    "\n",
    "# 3. Resize the images to (224,224) to ensure uniformity in sizing across all the images. You may set the batch size as 10.\n",
    "\n",
    "# 4. Visualize the images you now have in batches of ten. Use the Python function next() to grab a single batch of images\n",
    "#    and corresponding labels from the trainset. \n",
    "\n",
    "# 5. Generate model architecture with the first hidden layer as a standard convolutional layer, Conv2D, with 32 filters \n",
    "#    each with a kernel size of 3x3, going forward with zero-padding the edges. Use relu for the first layer.\n",
    "#    Max pooling layer with \"pool_size = 2x2\" and \"stride of 2\"\n",
    "#    The third and fourth hidden layers are again Conv2Dand MaxPool2D, respectively.\n",
    "#    Flatten the output from the convolutional layer and pass it to the Dense layer with softmax function.\n",
    "\n",
    "# 6. Compile the model using adam optimizer and categorical cross entropy loss. Rum 10 epochs on batches of 10.\n",
    "\n",
    "# 7. Evaluate model performance using confusion matrix after obtaining predictions on test set."
   ]
  }
 ],
 "metadata": {
  "kernelspec": {
   "display_name": "Python 3 (ipykernel)",
   "language": "python",
   "name": "python3"
  },
  "language_info": {
   "codemirror_mode": {
    "name": "ipython",
    "version": 3
   },
   "file_extension": ".py",
   "mimetype": "text/x-python",
   "name": "python",
   "nbconvert_exporter": "python",
   "pygments_lexer": "ipython3",
   "version": "3.8.11"
  }
 },
 "nbformat": 4,
 "nbformat_minor": 5
}
