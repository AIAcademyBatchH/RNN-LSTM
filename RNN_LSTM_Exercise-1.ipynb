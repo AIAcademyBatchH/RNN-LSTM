{
 "cells": [
  {
   "cell_type": "markdown",
   "id": "1b2f3044",
   "metadata": {},
   "source": [
    "#### Context\n",
    "The SMS Spam Collection is a set of SMS tagged messages that have been collected for SMS Spam research. It contains one set of SMS messages in English of 5,574 messages, tagged accordingly being ham (legitimate) or spam.\n",
    "\n",
    "#### Content\n",
    "The files contain one message per line. Each line is composed by two columns: v1 contains the label (ham or spam) and v2 contains the raw text."
   ]
  },
  {
   "cell_type": "code",
   "execution_count": 1,
   "id": "9e75798d",
   "metadata": {},
   "outputs": [],
   "source": [
    "# Questions/Instructions:\n",
    "\n",
    "# 1. Read the sms spam dataset by passing the argument/value 'latin-1' for the encoding parameter.\n",
    "\n",
    "# 2. Explore the data and do the needful to clean/pre-process the same, which you deem as suitable for the data.\n",
    "\n",
    "# 3. While undertaking text cleaning, be mindful to include stopwords and punctuation removal (analyze the dataset and \n",
    "#    add more stopwords if felt necessary), stemming. You may use any tool/package to carry out text cleaning.\n",
    "\n",
    "# 4. Encode the target variable before doing train-test split.\n",
    "\n",
    "# 5. Tokenize the data and convert the text to sequences. Add padding to ensure that all the sequences have the same shape.\n",
    "#    Set 1000 as the number of unique words to be considered in the corpus and sequence length as 150.\n",
    "\n",
    "# 6. Define your rnn-lstm architecture with embedding layer that will output vectors with dimension 64. Add first dense layer\n",
    "#    with 256 cells and relu activation function, and the output layer with sigmoid function.\n",
    "\n",
    "# 7. While compiling the model, use binary cross entropy loss and optimizer as \"rmsprop\". Run 10 epochs on batch sizes of 128.\n",
    "#    Capture the loss and accuracy of predictions on the test set."
   ]
  }
 ],
 "metadata": {
  "kernelspec": {
   "display_name": "Python 3 (ipykernel)",
   "language": "python",
   "name": "python3"
  },
  "language_info": {
   "codemirror_mode": {
    "name": "ipython",
    "version": 3
   },
   "file_extension": ".py",
   "mimetype": "text/x-python",
   "name": "python",
   "nbconvert_exporter": "python",
   "pygments_lexer": "ipython3",
   "version": "3.8.11"
  }
 },
 "nbformat": 4,
 "nbformat_minor": 5
}
