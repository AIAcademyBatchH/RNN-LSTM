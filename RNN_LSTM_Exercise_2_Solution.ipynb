{
 "cells": [
  {
   "cell_type": "code",
   "execution_count": null,
   "metadata": {
    "colab": {
     "base_uri": "https://localhost:8080/"
    },
    "id": "fGMwORjTn2AK",
    "outputId": "5d2eba91-8b5e-4bb4-bd3a-b0cb93d8d5f0"
   },
   "outputs": [
    {
     "name": "stdout",
     "output_type": "stream",
     "text": [
      "Drive already mounted at /content/drive; to attempt to forcibly remount, call drive.mount(\"/content/drive\", force_remount=True).\n"
     ]
    }
   ],
   "source": [
    "from google.colab import drive\n",
    "drive.mount('/content/drive')"
   ]
  },
  {
   "cell_type": "code",
   "execution_count": null,
   "metadata": {
    "_cell_guid": "b1076dfc-b9ad-4769-8c92-a6c4dae69d19",
    "_uuid": "8f2839f25d086af736a60e9eeb907d3b93b6e0e5",
    "id": "6aBj6E-1npi0"
   },
   "outputs": [],
   "source": [
    "import pandas as pd\n",
    "import numpy as np\n",
    "import matplotlib.pyplot as plt\n",
    "import seaborn as sns\n",
    "from sklearn.model_selection import train_test_split\n",
    "from sklearn.preprocessing import LabelEncoder\n",
    "from keras.models import Model\n",
    "from keras.layers import LSTM, Activation, Dense, Dropout, Input, Embedding\n",
    "from keras.preprocessing.text import Tokenizer\n",
    "from keras.preprocessing import sequence\n",
    "from tensorflow.keras.utils import to_categorical\n",
    "from keras.callbacks import EarlyStopping\n",
    "from sklearn.feature_extraction.text import CountVectorizer\n",
    "from keras.preprocessing.text import Tokenizer\n",
    "from keras.preprocessing.sequence import pad_sequences\n",
    "from keras.models import Sequential\n",
    "from keras.layers import Dense, Embedding, LSTM, SpatialDropout1D\n",
    "from sklearn.model_selection import train_test_split\n",
    "%matplotlib inline\n",
    "import os\n",
    "import re"
   ]
  },
  {
   "cell_type": "markdown",
   "metadata": {
    "id": "vgLBYLninpi3"
   },
   "source": [
    "# Data Pre-Processing\n",
    "- Getting rid of unwanted data\n",
    "- Checking up if the data is normalized or not\n",
    "- Filtering Headlines\n",
    "- Defining max features\n",
    "- Vectorize & Convert text for input\n",
    "- Splitting data to train & test"
   ]
  },
  {
   "cell_type": "code",
   "execution_count": null,
   "metadata": {
    "_cell_guid": "79c7e3d0-c299-4dcb-8224-4455121ee9b0",
    "_uuid": "d629ff2d2480ee46fbb7e2d37f6b5fab8052498a",
    "colab": {
     "base_uri": "https://localhost:8080/",
     "height": 203
    },
    "id": "xo5hEFFnnpi4",
    "outputId": "45c7e01f-b0bf-4621-ad30-3ef29e910674"
   },
   "outputs": [
    {
     "data": {
      "text/html": [
       "<div>\n",
       "<style scoped>\n",
       "    .dataframe tbody tr th:only-of-type {\n",
       "        vertical-align: middle;\n",
       "    }\n",
       "\n",
       "    .dataframe tbody tr th {\n",
       "        vertical-align: top;\n",
       "    }\n",
       "\n",
       "    .dataframe thead th {\n",
       "        text-align: right;\n",
       "    }\n",
       "</style>\n",
       "<table border=\"1\" class=\"dataframe\">\n",
       "  <thead>\n",
       "    <tr style=\"text-align: right;\">\n",
       "      <th></th>\n",
       "      <th>article_link</th>\n",
       "      <th>headline</th>\n",
       "      <th>is_sarcastic</th>\n",
       "    </tr>\n",
       "  </thead>\n",
       "  <tbody>\n",
       "    <tr>\n",
       "      <th>0</th>\n",
       "      <td>https://www.huffingtonpost.com/entry/versace-b...</td>\n",
       "      <td>former versace store clerk sues over secret 'b...</td>\n",
       "      <td>0</td>\n",
       "    </tr>\n",
       "    <tr>\n",
       "      <th>1</th>\n",
       "      <td>https://www.huffingtonpost.com/entry/roseanne-...</td>\n",
       "      <td>the 'roseanne' revival catches up to our thorn...</td>\n",
       "      <td>0</td>\n",
       "    </tr>\n",
       "    <tr>\n",
       "      <th>2</th>\n",
       "      <td>https://local.theonion.com/mom-starting-to-fea...</td>\n",
       "      <td>mom starting to fear son's web series closest ...</td>\n",
       "      <td>1</td>\n",
       "    </tr>\n",
       "    <tr>\n",
       "      <th>3</th>\n",
       "      <td>https://politics.theonion.com/boehner-just-wan...</td>\n",
       "      <td>boehner just wants wife to listen, not come up...</td>\n",
       "      <td>1</td>\n",
       "    </tr>\n",
       "    <tr>\n",
       "      <th>4</th>\n",
       "      <td>https://www.huffingtonpost.com/entry/jk-rowlin...</td>\n",
       "      <td>j.k. rowling wishes snape happy birthday in th...</td>\n",
       "      <td>0</td>\n",
       "    </tr>\n",
       "  </tbody>\n",
       "</table>\n",
       "</div>"
      ],
      "text/plain": [
       "                                        article_link  ... is_sarcastic\n",
       "0  https://www.huffingtonpost.com/entry/versace-b...  ...            0\n",
       "1  https://www.huffingtonpost.com/entry/roseanne-...  ...            0\n",
       "2  https://local.theonion.com/mom-starting-to-fea...  ...            1\n",
       "3  https://politics.theonion.com/boehner-just-wan...  ...            1\n",
       "4  https://www.huffingtonpost.com/entry/jk-rowlin...  ...            0\n",
       "\n",
       "[5 rows x 3 columns]"
      ]
     },
     "execution_count": 3,
     "metadata": {},
     "output_type": "execute_result"
    }
   ],
   "source": [
    "df = pd.read_json('/content/drive/MyDrive/Sarcasm_Headlines_Dataset.json', lines=True)\n",
    "df.head()\n"
   ]
  },
  {
   "cell_type": "markdown",
   "metadata": {
    "id": "t-jeMobinpi4"
   },
   "source": [
    "- ### Getting rid of unwanted data"
   ]
  },
  {
   "cell_type": "code",
   "execution_count": null,
   "metadata": {
    "colab": {
     "base_uri": "https://localhost:8080/",
     "height": 203
    },
    "id": "c5XRmICinpi5",
    "outputId": "b8fca7c1-cb9d-4b39-bd7c-48d651888221"
   },
   "outputs": [
    {
     "data": {
      "text/html": [
       "<div>\n",
       "<style scoped>\n",
       "    .dataframe tbody tr th:only-of-type {\n",
       "        vertical-align: middle;\n",
       "    }\n",
       "\n",
       "    .dataframe tbody tr th {\n",
       "        vertical-align: top;\n",
       "    }\n",
       "\n",
       "    .dataframe thead th {\n",
       "        text-align: right;\n",
       "    }\n",
       "</style>\n",
       "<table border=\"1\" class=\"dataframe\">\n",
       "  <thead>\n",
       "    <tr style=\"text-align: right;\">\n",
       "      <th></th>\n",
       "      <th>headline</th>\n",
       "      <th>is_sarcastic</th>\n",
       "    </tr>\n",
       "  </thead>\n",
       "  <tbody>\n",
       "    <tr>\n",
       "      <th>0</th>\n",
       "      <td>former versace store clerk sues over secret 'b...</td>\n",
       "      <td>0</td>\n",
       "    </tr>\n",
       "    <tr>\n",
       "      <th>1</th>\n",
       "      <td>the 'roseanne' revival catches up to our thorn...</td>\n",
       "      <td>0</td>\n",
       "    </tr>\n",
       "    <tr>\n",
       "      <th>2</th>\n",
       "      <td>mom starting to fear son's web series closest ...</td>\n",
       "      <td>1</td>\n",
       "    </tr>\n",
       "    <tr>\n",
       "      <th>3</th>\n",
       "      <td>boehner just wants wife to listen, not come up...</td>\n",
       "      <td>1</td>\n",
       "    </tr>\n",
       "    <tr>\n",
       "      <th>4</th>\n",
       "      <td>j.k. rowling wishes snape happy birthday in th...</td>\n",
       "      <td>0</td>\n",
       "    </tr>\n",
       "  </tbody>\n",
       "</table>\n",
       "</div>"
      ],
      "text/plain": [
       "                                            headline  is_sarcastic\n",
       "0  former versace store clerk sues over secret 'b...             0\n",
       "1  the 'roseanne' revival catches up to our thorn...             0\n",
       "2  mom starting to fear son's web series closest ...             1\n",
       "3  boehner just wants wife to listen, not come up...             1\n",
       "4  j.k. rowling wishes snape happy birthday in th...             0"
      ]
     },
     "execution_count": 4,
     "metadata": {},
     "output_type": "execute_result"
    }
   ],
   "source": [
    "df = df[['headline','is_sarcastic']]\n",
    "df.head()"
   ]
  },
  {
   "cell_type": "markdown",
   "metadata": {
    "id": "RL9mBl0snpi5"
   },
   "source": [
    "- ### Checking for normalization"
   ]
  },
  {
   "cell_type": "code",
   "execution_count": null,
   "metadata": {
    "colab": {
     "base_uri": "https://localhost:8080/",
     "height": 366
    },
    "id": "HEOVZGb_npi5",
    "outputId": "b7575feb-0201-493f-a99c-50b7d8f23e3c"
   },
   "outputs": [
    {
     "name": "stderr",
     "output_type": "stream",
     "text": [
      "/usr/local/lib/python3.7/dist-packages/seaborn/_decorators.py:43: FutureWarning: Pass the following variable as a keyword arg: x. From version 0.12, the only valid positional argument will be `data`, and passing other arguments without an explicit keyword will result in an error or misinterpretation.\n",
      "  FutureWarning\n"
     ]
    },
    {
     "data": {
      "text/plain": [
       "Text(0.5, 1.0, 'Sarcasm vs Non-sarcasm')"
      ]
     },
     "execution_count": 5,
     "metadata": {},
     "output_type": "execute_result"
    },
    {
     "data": {
      "image/png": "[encoded data removed]",
      "text/plain": [
       "<Figure size 432x288 with 1 Axes>"
      ]
     },
     "metadata": {
      "needs_background": "light"
     },
     "output_type": "display_data"
    }
   ],
   "source": [
    "sns.countplot(df.is_sarcastic)\n",
    "plt.xlabel('Label')\n",
    "plt.title('Sarcasm vs Non-sarcasm')\n"
   ]
  },
  {
   "cell_type": "markdown",
   "metadata": {
    "id": "VMHEc1uhnpi6"
   },
   "source": [
    "- ### Filtering headlines \n",
    "- So that only valid headlines remain & "
   ]
  },
  {
   "cell_type": "code",
   "execution_count": null,
   "metadata": {
    "id": "IZFKtragnpi6"
   },
   "outputs": [],
   "source": [
    "df['headline'] = df['headline'].apply(lambda x: x.lower())\n",
    "df['headline'] = df['headline'].apply((lambda x: re.sub('[^a-zA-z0-9\\s]','',x)))\n"
   ]
  },
  {
   "cell_type": "markdown",
   "metadata": {
    "id": "Lewgsp-onpi6"
   },
   "source": [
    "- ### Defining Max features \n",
    "- ### using Tokenizer to vectorize and convert text into Sequences \n",
    " so that the Network can deal with it as input"
   ]
  },
  {
   "cell_type": "code",
   "execution_count": null,
   "metadata": {
    "id": "xcfi4CjAnpi7"
   },
   "outputs": [],
   "source": [
    "for idx,row in df.iterrows():\n",
    "    row[0] = row[0].replace('rt',' ')\n",
    "    \n",
    "max_features = 2000\n",
    "tokenizer = Tokenizer(num_words=max_features, split=' ')\n",
    "tokenizer.fit_on_texts(df['headline'].values)\n",
    "X = tokenizer.texts_to_sequences(df['headline'].values)\n",
    "X = pad_sequences(X)"
   ]
  },
  {
   "cell_type": "markdown",
   "metadata": {
    "id": "4rJnysDGnpi7"
   },
   "source": [
    "### Splitting data to train & test"
   ]
  },
  {
   "cell_type": "code",
   "execution_count": null,
   "metadata": {
    "colab": {
     "base_uri": "https://localhost:8080/"
    },
    "id": "m76Evkbunpi7",
    "outputId": "5bf68607-268a-46ea-f32d-40259297006d"
   },
   "outputs": [
    {
     "name": "stdout",
     "output_type": "stream",
     "text": [
      "(17895, 29) (17895, 2)\n",
      "(8814, 29) (8814, 2)\n"
     ]
    }
   ],
   "source": [
    "Y = pd.get_dummies(df['is_sarcastic']).values\n",
    "X_train, X_test, Y_train, Y_test = train_test_split(X,Y, test_size = 0.33, random_state = 42)\n",
    "print(X_train.shape,Y_train.shape)\n",
    "print(X_test.shape,Y_test.shape)"
   ]
  },
  {
   "cell_type": "markdown",
   "metadata": {
    "id": "oDJb2XcCnpi8"
   },
   "source": [
    "# Defining the LSTM RNN Model\n",
    "With softmax activation"
   ]
  },
  {
   "cell_type": "code",
   "execution_count": null,
   "metadata": {
    "id": "xwmt7-sJnpi8"
   },
   "outputs": [],
   "source": [
    "embed_dim = 128\n",
    "lstm_out = 196\n",
    "\n",
    "model = Sequential()\n",
    "model.add(Embedding(max_features, embed_dim,input_length = X.shape[1]))\n",
    "model.add(SpatialDropout1D(0.4))\n",
    "model.add(LSTM(lstm_out, dropout=0.2, recurrent_dropout=0.2))\n",
    "model.add(Dense(2,activation='softmax'))\n",
    "model.compile(loss = 'categorical_crossentropy', optimizer='adam',metrics = ['accuracy'])"
   ]
  },
  {
   "cell_type": "markdown",
   "metadata": {
    "id": "gkRWri4Jnpi9"
   },
   "source": [
    "#### Training the model"
   ]
  },
  {
   "cell_type": "code",
   "execution_count": null,
   "metadata": {
    "colab": {
     "base_uri": "https://localhost:8080/"
    },
    "id": "-2buo-t1npi9",
    "outputId": "a3aa7e20-7173-432f-d931-1b42a314d0cd"
   },
   "outputs": [
    {
     "name": "stdout",
     "output_type": "stream",
     "text": [
      "Epoch 1/25\n",
      "560/560 - 82s - loss: 0.4433 - accuracy: 0.7838 - 82s/epoch - 146ms/step\n",
      "Epoch 2/25\n",
      "560/560 - 80s - loss: 0.3333 - accuracy: 0.8545 - 80s/epoch - 142ms/step\n",
      "Epoch 3/25\n",
      "560/560 - 79s - loss: 0.2999 - accuracy: 0.8706 - 79s/epoch - 142ms/step\n",
      "Epoch 4/25\n",
      "560/560 - 79s - loss: 0.2696 - accuracy: 0.8859 - 79s/epoch - 141ms/step\n",
      "Epoch 5/25\n",
      "560/560 - 79s - loss: 0.2498 - accuracy: 0.8946 - 79s/epoch - 141ms/step\n",
      "Epoch 6/25\n",
      "560/560 - 79s - loss: 0.2324 - accuracy: 0.9025 - 79s/epoch - 141ms/step\n",
      "Epoch 7/25\n",
      "560/560 - 79s - loss: 0.2134 - accuracy: 0.9093 - 79s/epoch - 141ms/step\n",
      "Epoch 8/25\n",
      "560/560 - 79s - loss: 0.1923 - accuracy: 0.9202 - 79s/epoch - 141ms/step\n",
      "Epoch 9/25\n",
      "560/560 - 79s - loss: 0.1798 - accuracy: 0.9270 - 79s/epoch - 141ms/step\n",
      "Epoch 10/25\n",
      "560/560 - 79s - loss: 0.1643 - accuracy: 0.9320 - 79s/epoch - 142ms/step\n",
      "Epoch 11/25\n",
      "560/560 - 79s - loss: 0.1499 - accuracy: 0.9377 - 79s/epoch - 141ms/step\n",
      "Epoch 12/25\n",
      "560/560 - 79s - loss: 0.1399 - accuracy: 0.9451 - 79s/epoch - 141ms/step\n",
      "Epoch 13/25\n",
      "560/560 - 79s - loss: 0.1239 - accuracy: 0.9504 - 79s/epoch - 141ms/step\n",
      "Epoch 14/25\n",
      "560/560 - 79s - loss: 0.1157 - accuracy: 0.9533 - 79s/epoch - 141ms/step\n",
      "Epoch 15/25\n",
      "560/560 - 79s - loss: 0.1025 - accuracy: 0.9585 - 79s/epoch - 141ms/step\n",
      "Epoch 16/25\n",
      "560/560 - 79s - loss: 0.0948 - accuracy: 0.9632 - 79s/epoch - 142ms/step\n",
      "Epoch 17/25\n",
      "560/560 - 79s - loss: 0.0895 - accuracy: 0.9667 - 79s/epoch - 140ms/step\n",
      "Epoch 18/25\n",
      "560/560 - 79s - loss: 0.0796 - accuracy: 0.9684 - 79s/epoch - 141ms/step\n",
      "Epoch 19/25\n",
      "560/560 - 79s - loss: 0.0750 - accuracy: 0.9715 - 79s/epoch - 141ms/step\n",
      "Epoch 20/25\n",
      "560/560 - 79s - loss: 0.0689 - accuracy: 0.9737 - 79s/epoch - 141ms/step\n",
      "Epoch 21/25\n",
      "560/560 - 79s - loss: 0.0674 - accuracy: 0.9733 - 79s/epoch - 141ms/step\n",
      "Epoch 22/25\n",
      "560/560 - 79s - loss: 0.0627 - accuracy: 0.9763 - 79s/epoch - 141ms/step\n",
      "Epoch 23/25\n",
      "560/560 - 79s - loss: 0.0557 - accuracy: 0.9782 - 79s/epoch - 141ms/step\n",
      "Epoch 24/25\n",
      "560/560 - 79s - loss: 0.0522 - accuracy: 0.9806 - 79s/epoch - 142ms/step\n",
      "Epoch 25/25\n",
      "560/560 - 80s - loss: 0.0521 - accuracy: 0.9807 - 80s/epoch - 144ms/step\n"
     ]
    }
   ],
   "source": [
    "batch_size = 32\n",
    "history = model.fit(X_train, Y_train, epochs = 25, batch_size=batch_size, verbose = 2)"
   ]
  },
  {
   "cell_type": "markdown",
   "metadata": {
    "id": "oai_lQkRnpi-"
   },
   "source": [
    "Let's check the accuracy and score now"
   ]
  },
  {
   "cell_type": "code",
   "execution_count": null,
   "metadata": {
    "colab": {
     "base_uri": "https://localhost:8080/"
    },
    "id": "Sd4Q0OLjnpi-",
    "outputId": "2044a902-d357-4bed-cd6c-1762bf3a4777"
   },
   "outputs": [
    {
     "name": "stdout",
     "output_type": "stream",
     "text": [
      "229/229 - 4s - loss: 0.9788 - accuracy: 0.8161 - 4s/epoch - 20ms/step\n",
      "score: 0.98\n",
      "acc: 0.82\n"
     ]
    }
   ],
   "source": [
    "validation_size = 1500\n",
    "\n",
    "X_validate = X_test[-validation_size:]\n",
    "Y_validate = Y_test[-validation_size:]\n",
    "X_test = X_test[:-validation_size]\n",
    "Y_test = Y_test[:-validation_size]\n",
    "score,acc = model.evaluate(X_test, Y_test, verbose = 2, batch_size = batch_size)\n",
    "print(\"score: %.2f\" % (score))\n",
    "print(\"acc: %.2f\" % (acc))"
   ]
  },
  {
   "cell_type": "markdown",
   "metadata": {
    "id": "YrCNdC4Vnpi_"
   },
   "source": [
    "#### Let's check it's score on sarcastic & non-sarcastic headlines respectively"
   ]
  },
  {
   "cell_type": "code",
   "execution_count": null,
   "metadata": {
    "id": "8BZgQEx3npjA"
   },
   "outputs": [],
   "source": [
    "pos_cnt, neg_cnt, pos_correct, neg_correct = 0, 0, 0, 0\n",
    "for x in range(len(X_validate)):\n",
    "    \n",
    "    result = model.predict(X_validate[x].reshape(1,X_test.shape[1]),batch_size=1,verbose = 2)[0]\n",
    "   \n",
    "    if np.argmax(result) == np.argmax(Y_validate[x]):\n",
    "        if np.argmax(Y_validate[x]) == 0:\n",
    "            neg_correct += 1\n",
    "        else:\n",
    "            pos_correct += 1\n",
    "       \n",
    "    if np.argmax(Y_validate[x]) == 0:\n",
    "        neg_cnt += 1\n",
    "    else:\n",
    "        pos_cnt += 1\n",
    "\n",
    "\n",
    "\n",
    "print(\"Sarcasm_acc\", pos_correct/pos_cnt*100, \"%\")\n",
    "print(\"Non-Sarcasm_acc\", neg_correct/neg_cnt*100, \"%\")"
   ]
  },
  {
   "cell_type": "markdown",
   "metadata": {
    "id": "FAUP1sflnpjA"
   },
   "source": [
    "Let's try it on a popular headline"
   ]
  },
  {
   "cell_type": "code",
   "execution_count": null,
   "metadata": {
    "colab": {
     "base_uri": "https://localhost:8080/"
    },
    "id": "zm8-U3eInpjA",
    "outputId": "37ff7ad4-8828-4031-fdbd-5135605bbf75"
   },
   "outputs": [
    {
     "name": "stdout",
     "output_type": "stream",
     "text": [
      "1/1 - 0s - 25ms/epoch - 25ms/step\n",
      "Sarcasm\n"
     ]
    }
   ],
   "source": [
    "headline = ['Chowkidar hi chor hai']\n",
    "headline = tokenizer.texts_to_sequences(headline)\n",
    "headline = pad_sequences(headline, maxlen=29, dtype='int32', value=0)\n",
    "\n",
    "sentiment = model.predict(headline,batch_size=1,verbose = 2)[0]\n",
    "if(np.argmax(sentiment) == 0):\n",
    "    print(\"Non-sarcastic\")\n",
    "elif (np.argmax(sentiment) == 1):\n",
    "    print(\"Sarcasm\")"
   ]
  }
 ],
 "metadata": {
  "colab": {
   "name": "RNN_LSTM_Exercise_2_Solution.ipynb",
   "provenance": []
  },
  "kernelspec": {
   "display_name": "Python 3",
   "language": "python",
   "name": "python3"
  },
  "language_info": {
   "codemirror_mode": {
    "name": "ipython",
    "version": 3
   },
   "file_extension": ".py",
   "mimetype": "text/x-python",
   "name": "python",
   "nbconvert_exporter": "python",
   "pygments_lexer": "ipython3",
   "version": "3.6.5"
  }
 },
 "nbformat": 4,
 "nbformat_minor": 1
}
